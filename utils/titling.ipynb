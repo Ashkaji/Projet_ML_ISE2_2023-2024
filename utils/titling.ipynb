{
 "cells": [
  {
   "cell_type": "code",
   "execution_count": 1,
   "metadata": {
    "ExecuteTime": {
     "end_time": "2024-02-07T13:23:35.084777700Z",
     "start_time": "2024-02-07T13:23:35.065080200Z"
    },
    "collapsed": false,
    "jupyter": {
     "outputs_hidden": false
    }
   },
   "outputs": [],
   "source": [
    "import string"
   ]
  },
  {
   "cell_type": "code",
   "execution_count": 2,
   "metadata": {
    "ExecuteTime": {
     "end_time": "2024-02-07T13:23:35.129097800Z",
     "start_time": "2024-02-07T13:23:35.083778200Z"
    }
   },
   "outputs": [],
   "source": [
    "titles = {\n",
    "    # level 1\n",
    "    'Préparation des données': {\n",
    "        # level 2\n",
    "        'Importation des modules Python': {},\n",
    "        'Chargement du jeu de données': {},\n",
    "        'Nettoyage des données': {\n",
    "            # level 3\n",
    "            'Traitement des valeurs manquantes',\n",
    "            'Suppression des doublons',\n",
    "            'Encodage des variables catégorielles',\n",
    "        },\n",
    "        # level 2\n",
    "        'Exploration des données': {\n",
    "            # level 3\n",
    "            'Analyse statistique descriptive',\n",
    "            'Visualisation des distributions',\n",
    "            'Normalisation des données',\n",
    "            'Analyse et visualisation des corrélations',\n",
    "            'Tests statistiques',\n",
    "            'Détection et correction des anomalies: Traitement des valeurs aberrantes',\n",
    "        },\n",
    "        # level 2\n",
    "        'Features Engineering': {},\n",
    "        'Séparation des données': {\n",
    "            # level 3\n",
    "            'Localisation de la variable cible Attrition',\n",
    "            \"Division en ensembles d'apprentissage et de test\",\n",
    "        }\n",
    "    },\n",
    "    # level 1\n",
    "    'Modélisation': {\n",
    "        # level 2\n",
    "        'Random Forest': {\n",
    "            # level 3\n",
    "            'Définition du modèle',\n",
    "            'Optimisation des hyperparamètres avec GridSearchCV',\n",
    "            'Entraînement du modèle',\n",
    "            'Evaluation des performances',\n",
    "        },\n",
    "        # level 2\n",
    "        'KNN': {\n",
    "            # level 3\n",
    "            'Définition du modèle',\n",
    "            'Optimisation des hyperparamètres avec GridSearchCV',\n",
    "            'Entraînement du modèle',\n",
    "            'Evaluation des performances',\n",
    "        },\n",
    "        # level 2\n",
    "        'Comparaison des deux modèles': {},\n",
    "        \"Utilisation de l'ensemble learning\": {}\n",
    "    }\n",
    "}"
   ]
  },
  {
   "cell_type": "code",
   "execution_count": 3,
   "metadata": {
    "ExecuteTime": {
     "end_time": "2024-02-07T13:23:35.158064200Z",
     "start_time": "2024-02-07T13:23:35.127100Z"
    },
    "collapsed": false,
    "jupyter": {
     "outputs_hidden": false
    }
   },
   "outputs": [],
   "source": [
    "def get_level(dic):\n",
    "    level = 0\n",
    "    test_dic = dic.copy()\n",
    "    while isinstance(test_dic, dict):\n",
    "        level += 1\n",
    "        keys = test_dic.keys()\n",
    "        if not list(keys):\n",
    "            break\n",
    "        test_key = list(keys)[0]\n",
    "        if isinstance(test_dic[test_key], dict):\n",
    "            test_dic = test_dic[test_key]\n",
    "    return level"
   ]
  },
  {
   "cell_type": "code",
   "execution_count": 11,
   "metadata": {
    "ExecuteTime": {
     "end_time": "2024-02-07T13:44:10.524451100Z",
     "start_time": "2024-02-07T13:44:10.519453400Z"
    },
    "collapsed": false,
    "jupyter": {
     "outputs_hidden": false
    }
   },
   "outputs": [],
   "source": [
    "def print_titles_leveled_hashtag(dic):\n",
    "    lev = 0\n",
    "    numbering_levels = {i: list(range(1, 10)) for i in range(2, 10)}\n",
    "    numbering_levels[1] = list(string.ascii_lowercase.upper())\n",
    "    iter_dic1 = dic.copy()\n",
    "    if get_level(dic) == 0:\n",
    "        pass\n",
    "    else:\n",
    "        for index, key in enumerate(iter_dic1.keys()):\n",
    "            lev = 1\n",
    "            hashtag = '#'*lev\n",
    "            nbring1 = numbering_levels[lev][index]\n",
    "            print(f\"#{hashtag} <a id='{nbring1}'>{nbring1}. {key}</a>\")\n",
    "\n",
    "            iter_dic2 = iter_dic1[key].copy()\n",
    "            for index, key in enumerate(iter_dic2.keys()):\n",
    "                lev = 2\n",
    "                hashtag = '#'*lev\n",
    "                nbring2 = f\"{nbring1}.{numbering_levels[lev][index]}\"\n",
    "                print(f\"#{hashtag} <a id='{nbring2}'>{nbring2}. {key}</a>\")\n",
    "\n",
    "                iter_dic3 = iter_dic2[key].copy()\n",
    "                try :\n",
    "                    for index, key in enumerate(iter_dic3):\n",
    "                        lev = 3\n",
    "                        hashtag = '#'*lev\n",
    "                        nbring3 = f\"{nbring2}.{numbering_levels[lev][index]}\"\n",
    "                        print(f\"#{hashtag} <a id='{nbring3}'>{nbring3}. {key}</a>\")\n",
    "                except:\n",
    "                    pass"
   ]
  },
  {
   "cell_type": "code",
   "execution_count": 12,
   "metadata": {
    "ExecuteTime": {
     "end_time": "2024-02-07T13:44:21.051697800Z",
     "start_time": "2024-02-07T13:44:21.042176400Z"
    },
    "collapsed": false,
    "jupyter": {
     "outputs_hidden": false
    }
   },
   "outputs": [
    {
     "name": "stdout",
     "output_type": "stream",
     "text": [
      "## <a id='A'>A. Préparation des données</a>\n",
      "### <a id='A.1'>A.1. Importation des modules Python</a>\n",
      "### <a id='A.2'>A.2. Chargement du jeu de données</a>\n",
      "### <a id='A.3'>A.3. Nettoyage des données</a>\n",
      "#### <a id='A.3.1'>A.3.1. Traitement des valeurs manquantes</a>\n",
      "#### <a id='A.3.2'>A.3.2. Encodage des variables catégorielles</a>\n",
      "#### <a id='A.3.3'>A.3.3. Suppression des doublons</a>\n",
      "### <a id='A.4'>A.4. Exploration des données</a>\n",
      "#### <a id='A.4.1'>A.4.1. Tests statistiques</a>\n",
      "#### <a id='A.4.2'>A.4.2. Visualisation des distributions</a>\n",
      "#### <a id='A.4.3'>A.4.3. Détection et correction des anomalies: Traitement des valeurs aberrantes</a>\n",
      "#### <a id='A.4.4'>A.4.4. Analyse et visualisation des corrélations</a>\n",
      "#### <a id='A.4.5'>A.4.5. Normalisation des données</a>\n",
      "#### <a id='A.4.6'>A.4.6. Analyse statistique descriptive</a>\n",
      "### <a id='A.5'>A.5. Features Engineering</a>\n",
      "### <a id='A.6'>A.6. Séparation des données</a>\n",
      "#### <a id='A.6.1'>A.6.1. Localisation de la variable cible Attrition</a>\n",
      "#### <a id='A.6.2'>A.6.2. Division en ensembles d'apprentissage et de test</a>\n",
      "## <a id='B'>B. Modélisation</a>\n",
      "### <a id='B.1'>B.1. Random Forest</a>\n",
      "#### <a id='B.1.1'>B.1.1. Entraînement du modèle</a>\n",
      "#### <a id='B.1.2'>B.1.2. Optimisation des hyperparamètres avec GridSearchCV</a>\n",
      "#### <a id='B.1.3'>B.1.3. Evaluation des performances</a>\n",
      "#### <a id='B.1.4'>B.1.4. Définition du modèle</a>\n",
      "### <a id='B.2'>B.2. KNN</a>\n",
      "#### <a id='B.2.1'>B.2.1. Entraînement du modèle</a>\n",
      "#### <a id='B.2.2'>B.2.2. Optimisation des hyperparamètres avec GridSearchCV</a>\n",
      "#### <a id='B.2.3'>B.2.3. Evaluation des performances</a>\n",
      "#### <a id='B.2.4'>B.2.4. Définition du modèle</a>\n",
      "### <a id='B.3'>B.3. Comparaison des deux modèles</a>\n",
      "### <a id='B.4'>B.4. Utilisation de l'ensemble learning</a>\n"
     ]
    }
   ],
   "source": [
    "print_titles_leveled_hashtag(titles)"
   ]
  },
  {
   "cell_type": "code",
   "execution_count": 6,
   "metadata": {
    "ExecuteTime": {
     "end_time": "2024-02-07T13:45:48.184203900Z",
     "start_time": "2024-02-07T13:45:48.178780Z"
    },
    "collapsed": false,
    "jupyter": {
     "outputs_hidden": false
    }
   },
   "outputs": [],
   "source": [
    "def print_sommaire(dic):\n",
    "    lev = 0\n",
    "    numbering_levels = {i: list(range(1, 10)) for i in range(2, 10)}\n",
    "    numbering_levels[1] = list(string.ascii_lowercase.upper())\n",
    "    iter_dic1 = dic.copy()\n",
    "    if get_level(dic) == 0:\n",
    "        pass\n",
    "    else:\n",
    "        for index, key in enumerate(iter_dic1.keys()):\n",
    "            lev = 1\n",
    "            befdash = '\\t'*(lev-1)\n",
    "            nbring1 = numbering_levels[lev][index]\n",
    "            print(f\"{befdash}- [{nbring1}. {key}](#{nbring1})\")\n",
    "\n",
    "            iter_dic2 = iter_dic1[key].copy()\n",
    "            for index, key in enumerate(iter_dic2.keys()):\n",
    "                lev = 2\n",
    "                befdash = '\\t'*(lev-1)\n",
    "                nbring2 = f\"{nbring1}.{numbering_levels[lev][index]}\"\n",
    "                print(f\"{befdash}- [{nbring2}. {key}](#{nbring2})\")\n",
    "\n",
    "                iter_dic3 = iter_dic2[key].copy()\n",
    "                try :\n",
    "                    for index, key in enumerate(iter_dic3):\n",
    "                        lev = 3\n",
    "                        befdash = '\\t'*(lev-1)\n",
    "                        nbring3 = f\"{nbring2}.{numbering_levels[lev][index]}\"\n",
    "                        print(f\"{befdash}- [{nbring3}. {key}](#{nbring3})\")\n",
    "                except:\n",
    "                    pass"
   ]
  },
  {
   "cell_type": "code",
   "execution_count": 7,
   "metadata": {},
   "outputs": [
    {
     "name": "stdout",
     "output_type": "stream",
     "text": [
      "- [A. Préparation des données](#A)\n",
      "\t- [A.1. Importation des modules Python](#A.1)\n",
      "\t- [A.2. Chargement du jeu de données](#A.2)\n",
      "\t- [A.3. Nettoyage des données](#A.3)\n",
      "\t\t- [A.3.1. Traitement des valeurs manquantes](#A.3.1)\n",
      "\t\t- [A.3.2. Encodage des variables catégorielles](#A.3.2)\n",
      "\t\t- [A.3.3. Suppression des doublons](#A.3.3)\n",
      "\t- [A.4. Exploration des données](#A.4)\n",
      "\t\t- [A.4.1. Tests statistiques](#A.4.1)\n",
      "\t\t- [A.4.2. Visualisation des distributions](#A.4.2)\n",
      "\t\t- [A.4.3. Détection et correction des anomalies: Traitement des valeurs aberrantes](#A.4.3)\n",
      "\t\t- [A.4.4. Analyse et visualisation des corrélations](#A.4.4)\n",
      "\t\t- [A.4.5. Normalisation des données](#A.4.5)\n",
      "\t\t- [A.4.6. Analyse statistique descriptive](#A.4.6)\n",
      "\t- [A.5. Features Engineering](#A.5)\n",
      "\t- [A.6. Séparation des données](#A.6)\n",
      "\t\t- [A.6.1. Localisation de la variable cible Attrition](#A.6.1)\n",
      "\t\t- [A.6.2. Division en ensembles d'apprentissage et de test](#A.6.2)\n",
      "- [B. Modélisation](#B)\n",
      "\t- [B.1. Random Forest](#B.1)\n",
      "\t\t- [B.1.1. Entraînement du modèle](#B.1.1)\n",
      "\t\t- [B.1.2. Optimisation des hyperparamètres avec GridSearchCV](#B.1.2)\n",
      "\t\t- [B.1.3. Evaluation des performances](#B.1.3)\n",
      "\t\t- [B.1.4. Définition du modèle](#B.1.4)\n",
      "\t- [B.2. KNN](#B.2)\n",
      "\t\t- [B.2.1. Entraînement du modèle](#B.2.1)\n",
      "\t\t- [B.2.2. Optimisation des hyperparamètres avec GridSearchCV](#B.2.2)\n",
      "\t\t- [B.2.3. Evaluation des performances](#B.2.3)\n",
      "\t\t- [B.2.4. Définition du modèle](#B.2.4)\n",
      "\t- [B.3. Comparaison des deux modèles](#B.3)\n",
      "\t- [B.4. Utilisation de l'ensemble learning](#B.4)\n"
     ]
    }
   ],
   "source": [
    "print_sommaire(titles)"
   ]
  },
  {
   "cell_type": "markdown",
   "metadata": {},
   "source": [
    "- [A. Préparation des données](#A)\r\n",
    "\t- [A.1. Importation des modules Python](#A.1)\r\n",
    "\t- [A.2. Chargement du jeu de données](#A.2)\r\n",
    "\t- [A.3. Nettoyage des données](#A.3)\r\n",
    "\t\t- [A.3.1. Traitement des valeurs manquantes](#A.3.1)\r\n",
    "\t\t- [A.3.2. Encodage des variables catégorielles](#A.3.2)\r\n",
    "\t\t- [A.3.3. Suppression des doublons](#A.3.3)\r\n",
    "\t- [A.4. Exploration des données](#A.4)\r\n",
    "\t\t- [A.4.1. Tests statistiques](#A.4.1)\r\n",
    "\t\t- [A.4.2. Analyse et visualisation des corrélations](#A.4.2)\r\n",
    "\t\t- [A.4.3. Détection et correction des anomalies: Traitement des valeurs aberrantes](#A.4.3)\r\n",
    "\t\t- [A.4.4. Normalisation des données](#A.4.4)\r\n",
    "\t\t- [A.4.5. Visualisation des distributions](#A.4.5)\r\n",
    "\t\t- [A.4.6. Analyse statistique descriptive](#A.4.6)\r\n",
    "\t- [A.5. Features Engineering](#A.5)\r\n",
    "\t- [A.6. Séparation des données](#A.6)\r\n",
    "\t\t- [A.6.1. Division en ensembles d'apprentissage et de test](#A.6.1)\r\n",
    "\t\t- [A.6.2. Localisation de la variable cible Attrition](#A.6.2)\r\n",
    "- [B. Modélisation](#B)\r\n",
    "\t- [B.1. Random Forest](#B.1)\r\n",
    "\t\t- [B.1.1. Définition du modèle](#B.1.1)\r\n",
    "\t\t- [B.1.2. Entraînement du modèle](#B.1.2)\r\n",
    "\t\t- [B.1.3. Optimisation des hyperparamètres avec GridSearchCV](#B.1.3)\r\n",
    "\t\t- [B.1.4. Evaluation des performances](#B.1.4)\r\n",
    "\t- [B.2. KNN](#B.2)\r\n",
    "\t\t- [B.2.1. Définition du modèle](#B.2.1)\r\n",
    "\t\t- [B.2.2. Entraînement du modèle](#B.2.2)\r\n",
    "\t\t- [B.2.3. Optimisation des hyperparamètres avec GridSearchCV](#B.2.3)\r\n",
    "\t\t- [B.2.4. Evaluation des performances](#B.2.4)\r\n",
    "\t- [B.3. Comparaison des deux modèles](#B.3)\r\n",
    "\t- [B.4. Utilisation de l'ensemble learning](#B.4)isation de l'ensemble learningisation de l'ensemble learningisation de l'ensemble learning"
   ]
  },
  {
   "cell_type": "markdown",
   "metadata": {},
   "source": [
    "## <a id='A'>A. Préparation des données</a>\n",
    "### <a id='A.1'>A.1. Importation des modules Python</a>\n",
    "### <a id='A.2'>A.2. Chargement du jeu de données</a>\n",
    "### <a id='A.3'>A.3. Nettoyage des données</a>\n",
    "#### <a id='A.3.1'>A.3.1. Traitement des valeurs manquantes</a>\n",
    "#### <a id='A.3.2'>A.3.2. Encodage des variables catégorielles</a>\n",
    "#### <a id='A.3.3'>A.3.3. Suppression des doublons</a>\n",
    "### <a id='A.4'>A.4. Exploration des données</a>\n",
    "#### <a id='A.4.1'>A.4.1. Tests statistiques</a>\n",
    "#### <a id='A.4.2'>A.4.2. Analyse et visualisation des corrélations</a>\n",
    "#### <a id='A.4.3'>A.4.3. Détection et correction des anomalies: Traitement des valeurs aberrantes</a>\n",
    "#### <a id='A.4.4'>A.4.4. Normalisation des données</a>\n",
    "#### <a id='A.4.5'>A.4.5. Visualisation des distributions</a>\n",
    "#### <a id='A.4.6'>A.4.6. Analyse statistique descriptive</a>\n",
    "### <a id='A.5'>A.5. Features Engineering</a>\n",
    "### <a id='A.6'>A.6. Séparation des données</a>\n",
    "#### <a id='A.6.1'>A.6.1. Division en ensembles d'apprentissage et de test</a>\n",
    "#### <a id='A.6.2'>A.6.2. Localisation de la variable cible Attrition</a>\n",
    "## <a id='B'>B. Modélisation</a>\n",
    "### <a id='B.1'>B.1. Random Forest</a>\n",
    "#### <a id='B.1.1'>B.1.1. Définition du modèle</a>\n",
    "#### <a id='B.1.2'>B.1.2. Entraînement du modèle</a>\n",
    "#### <a id='B.1.3'>B.1.3. Optimisation des hyperparamètres avec GridSearchCV</a>\n",
    "#### <a id='B.1.4'>B.1.4. Evaluation des performances</a>\n",
    "### <a id='B.2'>B.2. KNN</a>\n",
    "#### <a id='B.2.1'>B.2.1. Définition du modèle</a>\n",
    "#### <a id='B.2.2'>B.2.2. Entraînement du modèle</a>\n",
    "#### <a id='B.2.3'>B.2.3. Optimisation des hyperparamètres avec GridSearchCV</a>\n",
    "#### <a id='B.2.4'>B.2.4. Evaluation des performances</a>\n",
    "### <a id='B.3'>B.3. Comparaison des deux modèles</a>\n",
    "### <a id='B.4'>B.4. Utilisation de l'ensemble learning</a>"
   ]
  }
 ],
 "metadata": {
  "kernelspec": {
   "display_name": "Python 3 (ipykernel)",
   "language": "python",
   "name": "python3"
  },
  "language_info": {
   "codemirror_mode": {
    "name": "ipython",
    "version": 3
   },
   "file_extension": ".py",
   "mimetype": "text/x-python",
   "name": "python",
   "nbconvert_exporter": "python",
   "pygments_lexer": "ipython3",
   "version": "3.12.1"
  }
 },
 "nbformat": 4,
 "nbformat_minor": 4
}
