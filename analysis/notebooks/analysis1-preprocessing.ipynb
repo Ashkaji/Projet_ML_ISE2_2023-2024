{
 "cells": [
  {
   "cell_type": "markdown",
   "metadata": {},
   "source": [
    "<a id='top'></a>\n",
    "- <a href='#A'>A. Préparation des données</a>\n",
    "\t- <a href='#A.1'>A.1. Importation des modules Python</a>\n",
    "\t- <a href='#A.2'>A.2. Chargement du jeu de données</a>\n",
    "\t- <a href='#A.3'>A.3. Nettoyage des données</a>\n",
    "\t\t- <a href='#A.3.1'>A.3.1. Traitement des valeurs manquantes</a>\n",
    "\t\t- <a href='#A.3.2'>A.3.2. Encodage des variables catégorielles</a>\n",
    "\t\t- <a href='#A.3.3'>A.3.3. Suppression des doublons</a>\n",
    "\t- <a href='#A.4'>A.4. Exploration des données</a>\n",
    "\t\t- <a href='#A.4.1'>A.4.1. Analyse et visualisation des corrélations</a>\n",
    "\t\t- <a href='#A.4.2'>A.4.2. Visualisation des distributions</a>\n",
    "\t\t- <a href='#A.4.3'>A.4.3. Normalisation des données</a>\n",
    "\t\t- <a href='#A.4.4'>A.4.4. Tests statistiques</a>\n",
    "\t\t- <a href='#A.4.5'>A.4.5. Détection et correction des anomalies: Traitement des valeurs aberrantes</a>\n",
    "\t\t- <a href='#A.4.6'>A.4.6. Analyse statistique descriptive</a>\n",
    "\t- <a href='#A.5'>A.5. Features Engineering</a>\n",
    "\t- <a href='#A.6'>A.6. Séparation des données</a>\n",
    "\t\t- <a href='#A.6.1'>A.6.1. Division en ensembles d'apprentissage et de test</a>\n",
    "\t\t- <a href='#A.6.2'>A.6.2. Localisation de la variable cible Attrition</a>"
   ]
  },
  {
   "cell_type": "markdown",
   "metadata": {
    "jupyter": {
     "outputs_hidden": false
    }
   },
   "source": [
    "## <a id='A'>A. Préparation des données </a>"
   ]
  },
  {
   "cell_type": "markdown",
   "metadata": {
    "jupyter": {
     "outputs_hidden": false
    }
   },
   "source": [
    "### <a id='A.1'>A.1. Importation des modules Python</a>"
   ]
  },
  {
   "cell_type": "code",
   "execution_count": 19,
   "metadata": {
    "ExecuteTime": {
     "end_time": "2024-02-08T06:18:15.807566900Z",
     "start_time": "2024-02-08T06:18:04.413780500Z"
    },
    "collapsed": false,
    "jupyter": {
     "outputs_hidden": false
    }
   },
   "outputs": [],
   "source": [
    "import unicodedata\n",
    "from openpyxl import load_workbook\n",
    "import numpy as np\n",
    "import pandas as pd\n",
    "from pandas.api.types import CategoricalDtype\n",
    "\n",
    "import warnings\n",
    "warnings.filterwarnings('ignore')"
   ]
  },
  {
   "cell_type": "code",
   "execution_count": 20,
   "metadata": {
    "tags": []
   },
   "outputs": [],
   "source": [
    "columnsNameNomalizer = lambda x: str(\n",
    "    unicodedata.normalize('NFKD', x).encode('ascii', 'ignore'\n",
    "                       ).decode('utf-8')).title().replace('_', '').strip() if '_' in str(x) else str(\n",
    "    unicodedata.normalize('NFKD', x).encode('ascii', 'ignore').decode('utf-8')).strip()"
   ]
  },
  {
   "cell_type": "markdown",
   "metadata": {
    "jupyter": {
     "outputs_hidden": false
    }
   },
   "source": [
    "### <a id='A.2'>A.2. Chargement du jeu de données</a>"
   ]
  },
  {
   "cell_type": "markdown",
   "metadata": {
    "tags": []
   },
   "source": [
    "### A.2.1. Ouverture, normalisation des noms des variables et suppression de variables inutiles pour la prédiction"
   ]
  },
  {
   "cell_type": "code",
   "execution_count": 21,
   "metadata": {
    "ExecuteTime": {
     "end_time": "2024-02-08T06:18:16.605257500Z",
     "start_time": "2024-02-08T06:18:15.810080400Z"
    },
    "collapsed": false,
    "jupyter": {
     "outputs_hidden": false
    }
   },
   "outputs": [
    {
     "name": "stdout",
     "output_type": "stream",
     "text": [
      "Nom des feuilles du classeur excel: ['Présentation du Jeux de données', 'Description des Variables', 'JeuxDeDonnées']\n"
     ]
    }
   ],
   "source": [
    "# Load workbook\n",
    "raw_data_filepath = \"../../data/raw/Exam_ML_ISE-2.xlsx\"\n",
    "wb = load_workbook(filename=raw_data_filepath)\n",
    "print(f'Nom des feuilles du classeur excel: {wb.sheetnames}')"
   ]
  },
  {
   "cell_type": "code",
   "execution_count": 22,
   "metadata": {
    "ExecuteTime": {
     "end_time": "2024-02-08T06:18:16.605257500Z",
     "start_time": "2024-02-08T06:18:15.810080400Z"
    },
    "collapsed": false,
    "jupyter": {
     "outputs_hidden": false
    }
   },
   "outputs": [],
   "source": [
    "# Access to a the worksheet named 'JeuxDeDonnées'\n",
    "ws = wb[wb.sheetnames[-1]]\n",
    "# Get the first line in file as a header line\n",
    "values = ws.values\n",
    "columns = next(values)[0:]\n",
    "# Create a DataFrame based on the second and subsequent lines of data\n",
    "data = pd.DataFrame(values, columns=columns)"
   ]
  },
  {
   "cell_type": "code",
   "execution_count": 23,
   "metadata": {
    "tags": []
   },
   "outputs": [],
   "source": [
    "# Normalisation des noms des variables: en enlevant les caractères accentués et\n",
    "# les espaces(Genre) ainsi qu'en renommant de manière uniforme sans underscore\n",
    "data.rename(columns={c: columnsNameNomalizer(c) for c in data.columns}, inplace=True)"
   ]
  },
  {
   "cell_type": "code",
   "execution_count": 24,
   "metadata": {
    "ExecuteTime": {
     "end_time": "2024-02-08T06:18:16.825848600Z",
     "start_time": "2024-02-08T06:18:16.762708500Z"
    },
    "collapsed": false,
    "jupyter": {
     "outputs_hidden": false
    }
   },
   "outputs": [
    {
     "name": "stdout",
     "output_type": "stream",
     "text": [
      "Nombre de variables catégorielles:\t9\n",
      "Nombre de variables quantitatives:\t26\n",
      "----------------------------------\t--\n",
      "Total à l'ouverture de la base:\t\t35\n"
     ]
    }
   ],
   "source": [
    "categorical_features = data.select_dtypes(include=['object', 'category']).columns\n",
    "numerical_features = data.select_dtypes(exclude=['object', 'category']).columns\n",
    "\n",
    "print(f'''Nombre de variables catégorielles:\\t{categorical_features.size}\n",
    "Nombre de variables quantitatives:\\t{numerical_features.size}\n",
    "----------------------------------\\t--\n",
    "Total à l'ouverture de la base:\\t\\t{categorical_features.size + numerical_features.size}''')"
   ]
  },
  {
   "cell_type": "markdown",
   "metadata": {},
   "source": [
    "#### Suppression des variables inutiles"
   ]
  },
  {
   "cell_type": "code",
   "execution_count": 25,
   "metadata": {
    "tags": []
   },
   "outputs": [
    {
     "data": {
      "text/plain": [
       "18"
      ]
     },
     "execution_count": 25,
     "metadata": {},
     "output_type": "execute_result"
    }
   ],
   "source": [
    "data.Age.min()"
   ]
  },
  {
   "cell_type": "code",
   "execution_count": 26,
   "metadata": {
    "tags": []
   },
   "outputs": [
    {
     "data": {
      "text/plain": [
       "Over18Index\n",
       "Y    1470\n",
       "Name: count, dtype: int64"
      ]
     },
     "execution_count": 26,
     "metadata": {},
     "output_type": "execute_result"
    }
   ],
   "source": [
    "data.Over18Index.value_counts()"
   ]
  },
  {
   "cell_type": "code",
   "execution_count": 27,
   "metadata": {
    "tags": []
   },
   "outputs": [
    {
     "data": {
      "text/plain": [
       "StandardHours\n",
       "80    1470\n",
       "Name: count, dtype: int64"
      ]
     },
     "execution_count": 27,
     "metadata": {},
     "output_type": "execute_result"
    }
   ],
   "source": [
    "data.StandardHours.value_counts()"
   ]
  },
  {
   "cell_type": "markdown",
   "metadata": {},
   "source": [
    "On remarque que la variable `Over18Index` ne prend qu'une seule valeur car l'age minimum des employés est 18 ans.\\\n",
    "Il ne sert donc à rien de la garder.\\\n",
    "Il en est de même pour la variable `StandardHours` qui ne prend qu'une seule valeure.\n",
    "\n",
    "De plus, nous allons supprimer les variables `EmployeeCount` et `EmployeeNumber` puisque n'ayant aucun intérêt prédictif mais d'anonymat."
   ]
  },
  {
   "cell_type": "code",
   "execution_count": 28,
   "metadata": {},
   "outputs": [],
   "source": [
    "data.drop(columns={'EmployeeCount', 'EmployeeNumber', 'Over18Index', 'StandardHours'}, inplace=True)"
   ]
  },
  {
   "cell_type": "code",
   "execution_count": 29,
   "metadata": {},
   "outputs": [
    {
     "name": "stdout",
     "output_type": "stream",
     "text": [
      "Nombre de variables catégorielles:\t8\n",
      "Nombre de variables quantitatives:\t23\n",
      "----------------------------------\t--\n",
      "Total après chargement de la base:\t31\n"
     ]
    }
   ],
   "source": [
    "categorical_features = data.select_dtypes(include=['object', 'category']).columns\n",
    "numerical_features = data.select_dtypes(exclude=['object', 'category']).columns\n",
    "\n",
    "print(f'''Nombre de variables catégorielles:\\t{categorical_features.size}\n",
    "Nombre de variables quantitatives:\\t{numerical_features.size}\n",
    "----------------------------------\\t--\n",
    "Total après chargement de la base:\\t{categorical_features.size + numerical_features.size}''')"
   ]
  },
  {
   "cell_type": "code",
   "execution_count": 30,
   "metadata": {
    "tags": []
   },
   "outputs": [],
   "source": [
    "data.to_csv(\"../../data/processed/processed1_loading.csv\", encoding='utf8', index=False)"
   ]
  },
  {
   "cell_type": "markdown",
   "metadata": {},
   "source": [
    "### <a id='A.2.2'>A.2.2. Définition des types des variables</a>"
   ]
  },
  {
   "cell_type": "markdown",
   "metadata": {},
   "source": [
    "Ceci est fait dans le but d'optimiser l'allocation des ressources et de meilleurs performances"
   ]
  },
  {
   "cell_type": "code",
   "execution_count": 31,
   "metadata": {
    "tags": []
   },
   "outputs": [],
   "source": [
    "dtypes = {\n",
    "    'Age': 'int8',\n",
    "    'Attrition': 'category',               # unordered\n",
    "    #'DailyRate': ,\n",
    "    'Department': 'category',              # unordered\n",
    "    #'DistanceFromHome': ,\n",
    "    'Education': 'int8',#'category',\n",
    "    'EducationField': 'category',          # unordered\n",
    "    'EnvironmentSatisfaction': 'int8',#''category',\n",
    "    'EtatCivil': 'category',               # unordered\n",
    "    'EvaluationPerformance': 'int8',#''category',\n",
    "    'Genre': 'category',                   # unordered\n",
    "    'HeuresSupplementaires': 'category',   # unordered\n",
    "    'HourlyRate': 'int8',\n",
    "    'ImplicationDansEmploi': 'int8',#''category',\n",
    "    'JobLevel': 'int8',#''category',\n",
    "    'JobRole': 'category',                 # unordered\n",
    "    #'MonthlyRate',\n",
    "    'NumCompaniesWorked': 'int8',\n",
    "    'PercentSalaryHike': 'int8',\n",
    "    #'RevenuMensuel',\n",
    "    'SatisfactionRelationnelle': 'int8',#''category',\n",
    "    'SatisfactionTravail': 'int8',#''category',\n",
    "    'StockOptionLevel': 'int8',#''category',\n",
    "    'TotalWorkingYears': 'int8',\n",
    "    'TrainingTimesLastYear': 'int8',\n",
    "    'VoyageAffaires': 'category',          # unordered\n",
    "    'WorkLifeBalance': 'int8',#''category',\n",
    "    'YearsAtCompany': 'int8',\n",
    "    'YearsInCurrentRole': 'int8',\n",
    "    'YearsSinceLastPromotion': 'int8',\n",
    "    'YearsWithCurrManager': 'int8'\n",
    "}"
   ]
  },
  {
   "cell_type": "code",
   "execution_count": 32,
   "metadata": {
    "tags": []
   },
   "outputs": [],
   "source": [
    "data = pd.read_csv(filepath_or_buffer=\"../../data/processed/processed1_loading.csv\", dtype=dtypes,)"
   ]
  },
  {
   "cell_type": "markdown",
   "metadata": {},
   "source": [
    "> Labelizing the data for graphics"
   ]
  },
  {
   "cell_type": "code",
   "execution_count": 33,
   "metadata": {},
   "outputs": [],
   "source": [
    "Education_codes = {1: 'inférieur au collège', 2: 'collège', 3: 'licence', 4: 'master', 5: 'docteur'}\n",
    "EnvironmentSatisfaction_codes = {1: 'faible', 2: 'moyen', 3: 'élevée', 4: 'très élevée'}\n",
    "EvaluationPerformance_codes = {1: 'faible', 2: 'bon', 3: 'excellent', 4: 'exceptionnel'}\n",
    "ImplicationDansEmploi_codes = {1: 'très peu impliqué', 2: 'peu impliqué', 3: 'impliqué', 4: 'très impliqué', 5: 'exceptionnellement impliqué'}\n",
    "JobLevel_codes = {1: 'bas', 2: 'intermédiaire', 3: 'supérieur', 4: 'haut', 5: 'exceptionnel'}\n",
    "SatisfactionRelationnelle_codes = {1: 'faible', 2: 'moyen', 3: 'élevée', 4: 'très élevée'}\n",
    "SatisfactionTravail_codes = {1: 'faible', 2: 'moyen', 3: 'élevée', 4: 'très élevée'}\n",
    "StockOptionLevel_codes = {0: \"pas d'option\", 1: 'standard', 2: 'élevé', 3: 'exceptionnel '}\n",
    "WorkLifeBalance_codes = {1: 'mauvais', 2: 'bon', 3: 'excellent', 4: 'très élevé'}\n",
    "#-------------------------------------------------------------------------------------------------------------------\n",
    "Education_type = CategoricalDtype(categories=Education_codes.values(), ordered=True)\n",
    "EnvironmentSatisfaction_type = CategoricalDtype(categories=EnvironmentSatisfaction_codes.values(), ordered=True)\n",
    "EvaluationPerformance_type = CategoricalDtype(categories=EvaluationPerformance_codes.values(), ordered=True)\n",
    "ImplicationDansEmploi_type = CategoricalDtype(categories=ImplicationDansEmploi_codes.values(), ordered=True)\n",
    "JobLevel_type = CategoricalDtype(categories=JobLevel_codes.values(), ordered=True)\n",
    "SatisfactionRelationnelle_type = CategoricalDtype(categories=SatisfactionRelationnelle_codes.values(), ordered=True)\n",
    "SatisfactionTravail_type = CategoricalDtype(categories=SatisfactionTravail_codes.values(), ordered=True)\n",
    "StockOptionLevel_type = CategoricalDtype(categories=StockOptionLevel_codes.values(), ordered=True)\n",
    "WorkLifeBalance_type = CategoricalDtype(categories=WorkLifeBalance_codes.values(), ordered=True)\n",
    "#-------------------------------------------------------------------------------------------------------------------\n",
    "data_labeled = data.copy()\n",
    "data_labeled['Education'] = data_labeled.Education.map(Education_codes).astype(Education_type)\n",
    "data_labeled['EnvironmentSatisfaction'] = data_labeled.EnvironmentSatisfaction.map(EnvironmentSatisfaction_codes).astype(EnvironmentSatisfaction_type)\n",
    "data_labeled['EvaluationPerformance'] = data_labeled.EvaluationPerformance.map(EvaluationPerformance_codes).astype(EvaluationPerformance_type)\n",
    "data_labeled['ImplicationDansEmploi'] = data_labeled.ImplicationDansEmploi.map(ImplicationDansEmploi_codes).astype(ImplicationDansEmploi_type)\n",
    "data_labeled['JobLevel'] = data_labeled.JobLevel.map(JobLevel_codes).astype(JobLevel_type)\n",
    "data_labeled['SatisfactionRelationnelle'] = data_labeled.SatisfactionRelationnelle.map(SatisfactionRelationnelle_codes).astype(SatisfactionRelationnelle_type)\n",
    "data_labeled['SatisfactionTravail'] = data_labeled.SatisfactionTravail.map(SatisfactionTravail_codes).astype(SatisfactionTravail_type)\n",
    "data_labeled['StockOptionLevel'] = data_labeled.StockOptionLevel.map(StockOptionLevel_codes).astype(StockOptionLevel_type)\n",
    "data_labeled['WorkLifeBalance'] = data_labeled.WorkLifeBalance.map(WorkLifeBalance_codes).astype(WorkLifeBalance_type)"
   ]
  },
  {
   "cell_type": "code",
   "execution_count": 34,
   "metadata": {},
   "outputs": [
    {
     "data": {
      "text/html": [
       "<div>\n",
       "<style scoped>\n",
       "    .dataframe tbody tr th:only-of-type {\n",
       "        vertical-align: middle;\n",
       "    }\n",
       "\n",
       "    .dataframe tbody tr th {\n",
       "        vertical-align: top;\n",
       "    }\n",
       "\n",
       "    .dataframe thead th {\n",
       "        text-align: right;\n",
       "    }\n",
       "</style>\n",
       "<table border=\"1\" class=\"dataframe\">\n",
       "  <thead>\n",
       "    <tr style=\"text-align: right;\">\n",
       "      <th></th>\n",
       "      <th>Age</th>\n",
       "      <th>Attrition</th>\n",
       "      <th>VoyageAffaires</th>\n",
       "      <th>DailyRate</th>\n",
       "      <th>Department</th>\n",
       "      <th>DistanceFromHome</th>\n",
       "      <th>Education</th>\n",
       "      <th>EducationField</th>\n",
       "      <th>EnvironmentSatisfaction</th>\n",
       "      <th>Genre</th>\n",
       "      <th>...</th>\n",
       "      <th>EvaluationPerformance</th>\n",
       "      <th>SatisfactionRelationnelle</th>\n",
       "      <th>StockOptionLevel</th>\n",
       "      <th>TotalWorkingYears</th>\n",
       "      <th>TrainingTimesLastYear</th>\n",
       "      <th>WorkLifeBalance</th>\n",
       "      <th>YearsAtCompany</th>\n",
       "      <th>YearsInCurrentRole</th>\n",
       "      <th>YearsSinceLastPromotion</th>\n",
       "      <th>YearsWithCurrManager</th>\n",
       "    </tr>\n",
       "  </thead>\n",
       "  <tbody>\n",
       "    <tr>\n",
       "      <th>0</th>\n",
       "      <td>41</td>\n",
       "      <td>Yes</td>\n",
       "      <td>Travel_Rarely</td>\n",
       "      <td>1102</td>\n",
       "      <td>Sales</td>\n",
       "      <td>1.0</td>\n",
       "      <td>collège</td>\n",
       "      <td>Life Sciences</td>\n",
       "      <td>moyen</td>\n",
       "      <td>Female</td>\n",
       "      <td>...</td>\n",
       "      <td>excellent</td>\n",
       "      <td>faible</td>\n",
       "      <td>pas d'option</td>\n",
       "      <td>8</td>\n",
       "      <td>0</td>\n",
       "      <td>mauvais</td>\n",
       "      <td>6</td>\n",
       "      <td>4</td>\n",
       "      <td>0</td>\n",
       "      <td>5</td>\n",
       "    </tr>\n",
       "    <tr>\n",
       "      <th>1</th>\n",
       "      <td>49</td>\n",
       "      <td>No</td>\n",
       "      <td>Travel_Frequently</td>\n",
       "      <td>279</td>\n",
       "      <td>Research &amp; Development</td>\n",
       "      <td>8.0</td>\n",
       "      <td>inférieur au collège</td>\n",
       "      <td>Life Sciences</td>\n",
       "      <td>élevée</td>\n",
       "      <td>Male</td>\n",
       "      <td>...</td>\n",
       "      <td>exceptionnel</td>\n",
       "      <td>très élevée</td>\n",
       "      <td>standard</td>\n",
       "      <td>10</td>\n",
       "      <td>3</td>\n",
       "      <td>excellent</td>\n",
       "      <td>10</td>\n",
       "      <td>7</td>\n",
       "      <td>1</td>\n",
       "      <td>7</td>\n",
       "    </tr>\n",
       "  </tbody>\n",
       "</table>\n",
       "<p>2 rows × 31 columns</p>\n",
       "</div>"
      ],
      "text/plain": [
       "   Age Attrition     VoyageAffaires  DailyRate              Department  \\\n",
       "0   41       Yes      Travel_Rarely       1102                   Sales   \n",
       "1   49        No  Travel_Frequently        279  Research & Development   \n",
       "\n",
       "   DistanceFromHome             Education EducationField  \\\n",
       "0               1.0               collège  Life Sciences   \n",
       "1               8.0  inférieur au collège  Life Sciences   \n",
       "\n",
       "  EnvironmentSatisfaction   Genre  ...  EvaluationPerformance  \\\n",
       "0                   moyen  Female  ...              excellent   \n",
       "1                  élevée    Male  ...           exceptionnel   \n",
       "\n",
       "  SatisfactionRelationnelle StockOptionLevel TotalWorkingYears  \\\n",
       "0                    faible     pas d'option                 8   \n",
       "1               très élevée         standard                10   \n",
       "\n",
       "  TrainingTimesLastYear WorkLifeBalance  YearsAtCompany  YearsInCurrentRole  \\\n",
       "0                     0         mauvais               6                   4   \n",
       "1                     3       excellent              10                   7   \n",
       "\n",
       "   YearsSinceLastPromotion YearsWithCurrManager  \n",
       "0                        0                    5  \n",
       "1                        1                    7  \n",
       "\n",
       "[2 rows x 31 columns]"
      ]
     },
     "execution_count": 34,
     "metadata": {},
     "output_type": "execute_result"
    }
   ],
   "source": [
    "data_labeled.head(2)"
   ]
  },
  {
   "cell_type": "code",
   "execution_count": null,
   "metadata": {},
   "outputs": [
    {
     "name": "stdout",
     "output_type": "stream",
     "text": [
      "Nombre de variables qualitatives ordinales:\t9\n",
      "Nombre de variables qualitatives nominales:\t8\n",
      "-------------------------------------------\t--\n",
      "Nombre de variables catégorielles:\t\t17\n",
      "Nombre de variables quantitatives:\t\t14\n",
      "-------------------------------------------\t--\n",
      "Total après chargement de la base:\t\t31\n"
     ]
    }
   ],
   "source": [
    "categorical_features = data_labeled.select_dtypes(include='category').columns\n",
    "ordinal_features = pd.Index(['Education', 'EnvironmentSatisfaction', 'EvaluationPerformance', 'ImplicationDansEmploi', 'JobLevel', \n",
    "                             'SatisfactionRelationnelle', 'SatisfactionTravail', 'StockOptionLevel', 'WorkLifeBalance'])\n",
    "nominal_features = np.setdiff1d(categorical_features, ordinal_features)\n",
    "\n",
    "numerical_features = data_labeled.select_dtypes(exclude='category').columns\n",
    "\n",
    "print(f'''Nombre de variables qualitatives ordinales:\\t{ordinal_features.size}\n",
    "Nombre de variables qualitatives nominales:\\t{nominal_features.size}\n",
    "-------------------------------------------\\t--\n",
    "Nombre de variables catégorielles:\\t\\t{categorical_features.size}\n",
    "Nombre de variables quantitatives:\\t\\t{numerical_features.size}\n",
    "-------------------------------------------\\t--\n",
    "Total après chargement de la base:\\t\\t{categorical_features.size + numerical_features.size}''')"
   ]
  },
  {
   "cell_type": "code",
   "execution_count": 35,
   "metadata": {},
   "outputs": [],
   "source": [
    "data_labeled.to_csv(\"../../data/processed/processed2_labeled.csv\", encoding='utf8', index=False)"
   ]
  },
  {
   "cell_type": "raw",
   "metadata": {
    "tags": []
   },
   "source": [
    "for i in ['Education', 'EnvironmentSatisfaction', 'EvaluationPerformance', 'ImplicationDansEmploi', 'JobLevel',  \n",
    "          'SatisfactionRelationnelle', 'SatisfactionTravail', 'StockOptionLevel', 'WorkLifeBalance']:\n",
    "    \n",
    "    #print(f\"{i}_codes = {set(list(range(1, 6)))}\")\n",
    "    #print(f\"data.{i}\")\n",
    "    #print(f\"data['{i}'].cat.as_ordered(inplace=True)\")\n",
    "    #print(f\"data['{i}'] = data['{i}'].cat.as_ordered()\")\n",
    "    #print(f\"{i}_type = CategoricalDtype(categories={f'{i}'}_codes.values(), ordered=True)\")\n",
    "    #print(f\"data_labeled['{i}'] = data_labeled.{i}.map({i}_codes).astype({i}_type)\")"
   ]
  },
  {
   "cell_type": "markdown",
   "metadata": {
    "jupyter": {
     "outputs_hidden": false
    },
    "tags": []
   },
   "source": [
    "### <a id='A.3'>A.3. Nettoyage des données</a>\n",
    "<a href='#top' style='text-decoration:none; font-family: cursive; '>Back to Top^</a>"
   ]
  },
  {
   "cell_type": "markdown",
   "metadata": {
    "jupyter": {
     "outputs_hidden": false
    }
   },
   "source": [
    "#### <a id='A.3.1'>A.3.1. Traitement des valeurs manquantes</a>"
   ]
  },
  {
   "cell_type": "code",
   "execution_count": 37,
   "metadata": {
    "ExecuteTime": {
     "end_time": "2024-02-08T06:18:17.202882500Z",
     "start_time": "2024-02-08T06:18:17.008800500Z"
    },
    "collapsed": false,
    "jp-MarkdownHeadingCollapsed": true,
    "jupyter": {
     "outputs_hidden": false
    }
   },
   "outputs": [],
   "source": [
    "#### <a id='A.3.2'>A.3.2. Encodage des variables catégorielles</a>"
   ]
  },
  {
   "cell_type": "code",
   "execution_count": 38,
   "metadata": {
    "ExecuteTime": {
     "end_time": "2024-02-08T06:18:17.202882500Z",
     "start_time": "2024-02-08T06:18:17.009693500Z"
    },
    "collapsed": false,
    "jp-MarkdownHeadingCollapsed": true,
    "jupyter": {
     "outputs_hidden": false
    }
   },
   "outputs": [],
   "source": [
    "#### <a id='A.3.3'>A.3.3. Suppression des doublons</a>"
   ]
  },
  {
   "cell_type": "code",
   "execution_count": 39,
   "metadata": {
    "ExecuteTime": {
     "end_time": "2024-02-08T06:18:17.202882500Z",
     "start_time": "2024-02-08T06:18:17.018140600Z"
    },
    "collapsed": false,
    "jupyter": {
     "outputs_hidden": false
    }
   },
   "outputs": [],
   "source": [
    "### <a id='A.4'>A.4. Exploration des données</a>"
   ]
  },
  {
   "cell_type": "code",
   "execution_count": 40,
   "metadata": {
    "ExecuteTime": {
     "end_time": "2024-02-08T06:18:17.203691200Z",
     "start_time": "2024-02-08T06:18:17.039251200Z"
    },
    "collapsed": false,
    "jp-MarkdownHeadingCollapsed": true,
    "jupyter": {
     "outputs_hidden": false
    }
   },
   "outputs": [],
   "source": [
    "#### <a id='A.4.1'>A.4.1. Tests statistiques</a>"
   ]
  },
  {
   "cell_type": "code",
   "execution_count": 41,
   "metadata": {
    "ExecuteTime": {
     "end_time": "2024-02-08T06:18:17.203691200Z",
     "start_time": "2024-02-08T06:18:17.045771600Z"
    },
    "collapsed": false,
    "jp-MarkdownHeadingCollapsed": true,
    "jupyter": {
     "outputs_hidden": false
    }
   },
   "outputs": [],
   "source": [
    "#### <a id='A.4.2'>A.4.2. Visualisation des distributions</a>"
   ]
  },
  {
   "cell_type": "code",
   "execution_count": 42,
   "metadata": {
    "ExecuteTime": {
     "end_time": "2024-02-08T06:18:17.205246400Z",
     "start_time": "2024-02-08T06:18:17.060540300Z"
    },
    "collapsed": false,
    "jp-MarkdownHeadingCollapsed": true,
    "jupyter": {
     "outputs_hidden": false
    }
   },
   "outputs": [],
   "source": [
    "#### <a id='A.4.3'>A.4.3. Détection et correction des anomalies: Traitement des valeurs aberrantes</a>"
   ]
  },
  {
   "cell_type": "code",
   "execution_count": 43,
   "metadata": {
    "ExecuteTime": {
     "end_time": "2024-02-08T06:18:17.205794200Z",
     "start_time": "2024-02-08T06:18:17.076531300Z"
    },
    "collapsed": false,
    "jp-MarkdownHeadingCollapsed": true,
    "jupyter": {
     "outputs_hidden": false
    }
   },
   "outputs": [],
   "source": [
    "#### <a id='A.4.4'>A.4.4. Analyse et visualisation des corrélations</a>"
   ]
  },
  {
   "cell_type": "code",
   "execution_count": 44,
   "metadata": {
    "ExecuteTime": {
     "end_time": "2024-02-08T06:18:17.206263800Z",
     "start_time": "2024-02-08T06:18:17.099364800Z"
    },
    "collapsed": false,
    "jp-MarkdownHeadingCollapsed": true,
    "jupyter": {
     "outputs_hidden": false
    }
   },
   "outputs": [],
   "source": [
    "#### <a id='A.4.5'>A.4.5. Normalisation des données</a>"
   ]
  },
  {
   "cell_type": "code",
   "execution_count": 45,
   "metadata": {
    "ExecuteTime": {
     "end_time": "2024-02-08T06:18:17.206689200Z",
     "start_time": "2024-02-08T06:18:17.119868Z"
    },
    "collapsed": false,
    "jp-MarkdownHeadingCollapsed": true,
    "jupyter": {
     "outputs_hidden": false
    }
   },
   "outputs": [],
   "source": [
    "#### <a id='A.4.6'>A.4.6. Analyse statistique descriptive</a>"
   ]
  },
  {
   "cell_type": "code",
   "execution_count": 46,
   "metadata": {
    "ExecuteTime": {
     "end_time": "2024-02-08T06:18:17.206689200Z",
     "start_time": "2024-02-08T06:18:17.142566600Z"
    },
    "collapsed": false,
    "jp-MarkdownHeadingCollapsed": true,
    "jupyter": {
     "outputs_hidden": false
    }
   },
   "outputs": [],
   "source": [
    "### <a id='A.5'>A.5. Features Engineering</a>"
   ]
  },
  {
   "cell_type": "code",
   "execution_count": 47,
   "metadata": {
    "ExecuteTime": {
     "end_time": "2024-02-08T06:18:17.241155800Z",
     "start_time": "2024-02-08T06:18:17.161888100Z"
    },
    "collapsed": false,
    "jupyter": {
     "outputs_hidden": false
    }
   },
   "outputs": [],
   "source": [
    "### <a id='A.6'>A.6. Séparation des données</a>"
   ]
  },
  {
   "cell_type": "code",
   "execution_count": 48,
   "metadata": {
    "ExecuteTime": {
     "end_time": "2024-02-08T06:18:17.244906200Z",
     "start_time": "2024-02-08T06:18:17.181686500Z"
    },
    "collapsed": false,
    "jp-MarkdownHeadingCollapsed": true,
    "jupyter": {
     "outputs_hidden": false
    }
   },
   "outputs": [],
   "source": [
    "#### <a id='A.6.1'>A.6.1. Localisation de la variable cible Attrition</a>"
   ]
  },
  {
   "cell_type": "code",
   "execution_count": 49,
   "metadata": {
    "ExecuteTime": {
     "end_time": "2024-02-08T06:18:17.383342100Z",
     "start_time": "2024-02-08T06:18:17.197689Z"
    },
    "collapsed": false,
    "jupyter": {
     "outputs_hidden": false
    }
   },
   "outputs": [],
   "source": [
    "#### <a id='A.6.2'>A.6.2. Division en ensembles d'apprentissage et de test</a>"
   ]
  }
 ],
 "metadata": {
  "kernelspec": {
   "display_name": "base",
   "language": "python",
   "name": "python3"
  },
  "language_info": {
   "codemirror_mode": {
    "name": "ipython",
    "version": 3
   },
   "file_extension": ".py",
   "mimetype": "text/x-python",
   "name": "python",
   "nbconvert_exporter": "python",
   "pygments_lexer": "ipython3",
   "version": "3.11.4"
  }
 },
 "nbformat": 4,
 "nbformat_minor": 4
}
