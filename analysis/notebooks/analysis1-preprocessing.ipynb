{
 "cells": [
  {
   "cell_type": "markdown",
   "metadata": {},
   "source": [
    "- [A. Préparation des données](#A)\r\n",
    "\t- [A.1. Importation des modules Python](#A.1)\r\n",
    "\t- [A.2. Chargement du jeu de données](#A.2)\r\n",
    "\t- [A.3. Nettoyage des données](#A.3)\r\n",
    "\t\t- [A.3.1. Traitement des valeurs manquantes](#A.3.1)\r\n",
    "\t\t- [A.3.2. Encodage des variables catégorielles](#A.3.2)\r\n",
    "\t\t- [A.3.3. Suppression des doublons](#A.3.3)\r\n",
    "\t- [A.4. Exploration des données](#A.4)\r\n",
    "\t\t- [A.4.1. Tests statistiques](#A.4.1)\r\n",
    "\t\t- [A.4.2. Visualisation des distributions](#A.4.2)\r\n",
    "\t\t- [A.4.3. Détection et correction des anomalies: Traitement des valeurs aberrantes](#A.4.3)\r\n",
    "\t\t- [A.4.4. Analyse et visualisation des corrélations](#A.4.4)\r\n",
    "\t\t- [A.4.5. Normalisation des données](#A.4.5)\r\n",
    "\t\t- [A.4.6. Analyse statistique descriptive](#A.4.6)\r\n",
    "\t- [A.5. Features Engineering](#A.5)\r\n",
    "\t- [A.6. Séparation des données](#A.6)\r\n",
    "\t\t- [A.6.1. Localisation de la variable cible Attrition](#A.6.1)\r\n",
    "\t\t- [A.6.2. Division en ensembles d'apprentissage et de l'ensemble learning](#B.4)"
   ]
  },
  {
   "cell_type": "markdown",
   "metadata": {
    "collapsed": false,
    "jupyter": {
     "outputs_hidden": false
    }
   },
   "source": [
    "## <a id='A'>A. Préparation des données</a>"
   ]
  },
  {
   "cell_type": "markdown",
   "metadata": {
    "collapsed": false,
    "jp-MarkdownHeadingCollapsed": true,
    "jupyter": {
     "outputs_hidden": false
    }
   },
   "source": [
    "### <a id='A.1'>A.1. Importation des modules Python</a>"
   ]
  },
  {
   "cell_type": "markdown",
   "metadata": {
    "collapsed": false,
    "jupyter": {
     "outputs_hidden": false
    }
   },
   "source": [
    "### <a id='A.2'>A.2. Chargement du jeu de données</a>"
   ]
  },
  {
   "cell_type": "code",
   "execution_count": null,
   "metadata": {
    "collapsed": false,
    "jupyter": {
     "outputs_hidden": false
    }
   },
   "outputs": [],
   "source": [
    "### <a id='A.3'>A.3. Nettoyage des données</a>"
   ]
  },
  {
   "cell_type": "code",
   "execution_count": null,
   "metadata": {
    "collapsed": false,
    "jp-MarkdownHeadingCollapsed": true,
    "jupyter": {
     "outputs_hidden": false
    }
   },
   "outputs": [],
   "source": [
    "#### <a id='A.3.1'>A.3.1. Traitement des valeurs manquantes</a>"
   ]
  },
  {
   "cell_type": "code",
   "execution_count": null,
   "metadata": {
    "collapsed": false,
    "jp-MarkdownHeadingCollapsed": true,
    "jupyter": {
     "outputs_hidden": false
    }
   },
   "outputs": [],
   "source": [
    "#### <a id='A.3.2'>A.3.2. Encodage des variables catégorielles</a>"
   ]
  },
  {
   "cell_type": "code",
   "execution_count": null,
   "metadata": {
    "collapsed": false,
    "jp-MarkdownHeadingCollapsed": true,
    "jupyter": {
     "outputs_hidden": false
    }
   },
   "outputs": [],
   "source": [
    "#### <a id='A.3.3'>A.3.3. Suppression des doublons</a>"
   ]
  },
  {
   "cell_type": "code",
   "execution_count": null,
   "metadata": {
    "collapsed": false,
    "jupyter": {
     "outputs_hidden": false
    }
   },
   "outputs": [],
   "source": [
    "### <a id='A.4'>A.4. Exploration des données</a>"
   ]
  },
  {
   "cell_type": "code",
   "execution_count": null,
   "metadata": {
    "collapsed": false,
    "jp-MarkdownHeadingCollapsed": true,
    "jupyter": {
     "outputs_hidden": false
    }
   },
   "outputs": [],
   "source": [
    "#### <a id='A.4.1'>A.4.1. Tests statistiques</a>"
   ]
  },
  {
   "cell_type": "code",
   "execution_count": null,
   "metadata": {
    "collapsed": false,
    "jp-MarkdownHeadingCollapsed": true,
    "jupyter": {
     "outputs_hidden": false
    }
   },
   "outputs": [],
   "source": [
    "#### <a id='A.4.2'>A.4.2. Visualisation des distributions</a>"
   ]
  },
  {
   "cell_type": "code",
   "execution_count": null,
   "metadata": {
    "collapsed": false,
    "jp-MarkdownHeadingCollapsed": true,
    "jupyter": {
     "outputs_hidden": false
    }
   },
   "outputs": [],
   "source": [
    "#### <a id='A.4.3'>A.4.3. Détection et correction des anomalies: Traitement des valeurs aberrantes</a>"
   ]
  },
  {
   "cell_type": "code",
   "execution_count": null,
   "metadata": {
    "collapsed": false,
    "jp-MarkdownHeadingCollapsed": true,
    "jupyter": {
     "outputs_hidden": false
    }
   },
   "outputs": [],
   "source": [
    "#### <a id='A.4.4'>A.4.4. Analyse et visualisation des corrélations</a>"
   ]
  },
  {
   "cell_type": "code",
   "execution_count": null,
   "metadata": {
    "collapsed": false,
    "jp-MarkdownHeadingCollapsed": true,
    "jupyter": {
     "outputs_hidden": false
    }
   },
   "outputs": [],
   "source": [
    "#### <a id='A.4.5'>A.4.5. Normalisation des données</a>"
   ]
  },
  {
   "cell_type": "code",
   "execution_count": null,
   "metadata": {
    "collapsed": false,
    "jp-MarkdownHeadingCollapsed": true,
    "jupyter": {
     "outputs_hidden": false
    }
   },
   "outputs": [],
   "source": [
    "#### <a id='A.4.6'>A.4.6. Analyse statistique descriptive</a>"
   ]
  },
  {
   "cell_type": "code",
   "execution_count": null,
   "metadata": {
    "collapsed": false,
    "jp-MarkdownHeadingCollapsed": true,
    "jupyter": {
     "outputs_hidden": false
    }
   },
   "outputs": [],
   "source": [
    "### <a id='A.5'>A.5. Features Engineering</a>"
   ]
  },
  {
   "cell_type": "code",
   "execution_count": null,
   "metadata": {
    "collapsed": false,
    "jupyter": {
     "outputs_hidden": false
    }
   },
   "outputs": [],
   "source": [
    "### <a id='A.6'>A.6. Séparation des données</a>"
   ]
  },
  {
   "cell_type": "code",
   "execution_count": null,
   "metadata": {
    "collapsed": false,
    "jp-MarkdownHeadingCollapsed": true,
    "jupyter": {
     "outputs_hidden": false
    }
   },
   "outputs": [],
   "source": [
    "#### <a id='A.6.1'>A.6.1. Localisation de la variable cible Attrition</a>"
   ]
  },
  {
   "cell_type": "code",
   "execution_count": null,
   "metadata": {
    "collapsed": false,
    "jupyter": {
     "outputs_hidden": false
    }
   },
   "outputs": [],
   "source": [
    "#### <a id='A.6.2'>A.6.2. Division en ensembles d'apprentissage et de test</a>"
   ]
  }
 ],
 "metadata": {
  "kernelspec": {
   "display_name": "Python 3 (ipykernel)",
   "language": "python",
   "name": "python3"
  },
  "language_info": {
   "codemirror_mode": {
    "name": "ipython",
    "version": 3
   },
   "file_extension": ".py",
   "mimetype": "text/x-python",
   "name": "python",
   "nbconvert_exporter": "python",
   "pygments_lexer": "ipython3",
   "version": "3.12.1"
  }
 },
 "nbformat": 4,
 "nbformat_minor": 4
}
