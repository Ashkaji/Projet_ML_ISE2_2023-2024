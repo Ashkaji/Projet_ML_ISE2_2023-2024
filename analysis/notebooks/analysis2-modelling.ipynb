{
 "cells": [
  {
   "cell_type": "markdown",
   "metadata": {},
   "source": [
    "- [B. Modélisation](#B)\n",
    "\t- [B.1. Random Forest](#B.1)\n",
    "\t\t- [B.1.1. Entraînement du modèle](#B.1.1)\n",
    "\t\t- [B.1.2. Optimisation des hyperparamètres avec GridSearchCV](#B.1.2)\n",
    "\t\t- [B.1.3. Evaluation des performances](#B.1.3)\n",
    "\t\t- [B.1.4. Définition du modèle](#B.1.4)\n",
    "\t- [B.2. KNN](#B.2)\n",
    "\t\t- [B.2.1. Entraînement du modèle](#B.2.1)\n",
    "\t\t- [B.2.2. Optimisation des hyperparamètres avec GridSearchCV](#B.2.2)\n",
    "\t\t- [B.2.3. Evaluation des performances](#B.2.3)\n",
    "\t\t- [B.2.4. Définition du modèle](#B.2.4)\n",
    "\t- [B.3. Comparaison des deux modèles](#B.3)\n",
    "\t- [B.4. Utilisation de l'ensemble learning](#B.4)"
   ]
  },
  {
   "cell_type": "code",
   "execution_count": null,
   "metadata": {},
   "outputs": [],
   "source": [
    "## <a id='B'>B. Modélisation</a>"
   ]
  },
  {
   "cell_type": "code",
   "execution_count": null,
   "metadata": {
    "jp-MarkdownHeadingCollapsed": true
   },
   "outputs": [],
   "source": [
    "### <a id='B.1'>B.1. Random Forest</a>"
   ]
  },
  {
   "cell_type": "code",
   "execution_count": null,
   "metadata": {},
   "outputs": [],
   "source": [
    "#### <a id='B.1.1'>B.1.1. Entraînement du modèle</a>"
   ]
  },
  {
   "cell_type": "code",
   "execution_count": null,
   "metadata": {},
   "outputs": [],
   "source": [
    "#### <a id='B.1.2'>B.1.2. Optimisation des hyperparamètres avec GridSearchCV</a>"
   ]
  },
  {
   "cell_type": "code",
   "execution_count": null,
   "metadata": {},
   "outputs": [],
   "source": [
    "#### <a id='B.1.3'>B.1.3. Evaluation des performances</a>"
   ]
  },
  {
   "cell_type": "code",
   "execution_count": null,
   "metadata": {},
   "outputs": [],
   "source": [
    "#### <a id='B.1.4'>B.1.4. Définition du modèle</a>"
   ]
  },
  {
   "cell_type": "code",
   "execution_count": null,
   "metadata": {},
   "outputs": [],
   "source": [
    "### <a id='B.2'>B.2. KNN</a>"
   ]
  },
  {
   "cell_type": "code",
   "execution_count": null,
   "metadata": {},
   "outputs": [],
   "source": [
    "#### <a id='B.2.1'>B.2.1. Entraînement du modèle</a>"
   ]
  },
  {
   "cell_type": "code",
   "execution_count": null,
   "metadata": {},
   "outputs": [],
   "source": [
    "#### <a id='B.2.2'>B.2.2. Optimisation des hyperparamètres avec GridSearchCV</a>"
   ]
  },
  {
   "cell_type": "code",
   "execution_count": null,
   "metadata": {},
   "outputs": [],
   "source": [
    "#### <a id='B.2.3'>B.2.3. Evaluation des performances</a>"
   ]
  },
  {
   "cell_type": "code",
   "execution_count": null,
   "metadata": {},
   "outputs": [],
   "source": [
    "#### <a id='B.2.4'>B.2.4. Définition du modèle</a>"
   ]
  },
  {
   "cell_type": "code",
   "execution_count": null,
   "metadata": {
    "jp-MarkdownHeadingCollapsed": true
   },
   "outputs": [],
   "source": [
    "### <a id='B.3'>B.3. Comparaison des deux modèles</a>"
   ]
  },
  {
   "cell_type": "code",
   "execution_count": null,
   "metadata": {
    "jp-MarkdownHeadingCollapsed": true
   },
   "outputs": [],
   "source": [
    "### <a id='B.4'>B.4. Utilisation de l'ensemble learning</a>"
   ]
  }
 ],
 "metadata": {
  "kernelspec": {
   "display_name": "Python 3 (ipykernel)",
   "language": "python",
   "name": "python3"
  },
  "language_info": {
   "codemirror_mode": {
    "name": "ipython",
    "version": 3
   },
   "file_extension": ".py",
   "mimetype": "text/x-python",
   "name": "python",
   "nbconvert_exporter": "python",
   "pygments_lexer": "ipython3",
   "version": "3.12.1"
  }
 },
 "nbformat": 4,
 "nbformat_minor": 4
}
