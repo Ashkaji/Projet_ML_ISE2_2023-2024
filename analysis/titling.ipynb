{
 "cells": [
  {
   "cell_type": "code",
   "execution_count": 6,
   "metadata": {
    "collapsed": true,
    "ExecuteTime": {
     "end_time": "2024-02-06T17:32:42.729899800Z",
     "start_time": "2024-02-06T17:32:42.723371300Z"
    }
   },
   "outputs": [],
   "source": [
    "titles = {\n",
    "    # level 1\n",
    "    'A. Préparation des données': {\n",
    "        # level 2\n",
    "        'Importation des modules Python': {},\n",
    "        'Chargement du jeu de données': {},\n",
    "        'Nettoyage des données': {\n",
    "            # level 3\n",
    "            'Traitement des valeurs manquantes',\n",
    "            'Suppression des doublons',\n",
    "            'Encodage des variables catégorielles',\n",
    "        },\n",
    "        # level 2\n",
    "        'Exploration des données': {\n",
    "            # level 3\n",
    "            'Analyse statistique descriptive',\n",
    "            'Visualisation des distributions',\n",
    "            'Normalisation des données',\n",
    "            'Analyse et visualisation des corrélations',\n",
    "            'Tests statistiques',\n",
    "            'Détection et correction des anomalies: Traitement des valeurs aberrantes',\n",
    "        },\n",
    "        # level 2\n",
    "        'Features Engineering': {},\n",
    "        'Séparation des données': {\n",
    "            # level 3\n",
    "            'Localisation de la variable cible Attrition',\n",
    "            \"Division en ensembles d'apprentissage et de test\",\n",
    "        }\n",
    "    },\n",
    "    # level 1\n",
    "    'B. Modélisation': {\n",
    "        # level 2\n",
    "        'Random Forest': {\n",
    "            # level 3\n",
    "            'Définition du modèle',\n",
    "            'Optimisation des hyperparamètres avec GridSearchCV',\n",
    "            'Entraînement du modèle',\n",
    "            'Evaluation des performances',\n",
    "        },\n",
    "        # level 2\n",
    "        'KNN': {\n",
    "            # level 3\n",
    "            'Définition du modèle',\n",
    "            'Optimisation des hyperparamètres avec GridSearchCV',\n",
    "            'Entraînement du modèle',\n",
    "            'Evaluation des performances',\n",
    "        },\n",
    "        # level 2\n",
    "        'Comparaison des deux modèles': {},\n",
    "        \"Utilisation de l'ensemble learning\": {}\n",
    "    }\n",
    "}"
   ]
  },
  {
   "cell_type": "code",
   "execution_count": 84,
   "outputs": [],
   "source": [
    "def get_level(dic):\n",
    "    level = 0\n",
    "    test_dic = dic.copy()\n",
    "    while isinstance(test_dic, dict):\n",
    "        level += 1\n",
    "        keys = test_dic.keys()\n",
    "        if not list(keys):\n",
    "            break\n",
    "        test_key = list(keys)[0]\n",
    "        if isinstance(test_dic[test_key], dict):\n",
    "            test_dic = test_dic[test_key]\n",
    "\n",
    "    return level"
   ],
   "metadata": {
    "collapsed": false,
    "ExecuteTime": {
     "end_time": "2024-02-06T18:54:30.371028300Z",
     "start_time": "2024-02-06T18:54:30.365012600Z"
    }
   }
  },
  {
   "cell_type": "code",
   "execution_count": 39,
   "outputs": [],
   "source": [
    "def print_titles_leveled(dic):\n",
    "    if isinstance(dic, dict):\n",
    "        pass"
   ],
   "metadata": {
    "collapsed": false,
    "ExecuteTime": {
     "end_time": "2024-02-06T18:23:38.542165700Z",
     "start_time": "2024-02-06T18:23:38.531694Z"
    }
   }
  }
 ],
 "metadata": {
  "kernelspec": {
   "display_name": "Python 3",
   "language": "python",
   "name": "python3"
  },
  "language_info": {
   "codemirror_mode": {
    "name": "ipython",
    "version": 2
   },
   "file_extension": ".py",
   "mimetype": "text/x-python",
   "name": "python",
   "nbconvert_exporter": "python",
   "pygments_lexer": "ipython2",
   "version": "2.7.6"
  }
 },
 "nbformat": 4,
 "nbformat_minor": 0
}
